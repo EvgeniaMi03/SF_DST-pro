{
 "cells": [
  {
   "cell_type": "code",
   "execution_count": 2,
   "id": "d03080ef",
   "metadata": {},
   "outputs": [],
   "source": [
    "import pandas as pd\n",
    "import matplotlib.pyplot as plt\n",
    "import seaborn as sns\n",
    "from itertools import combinations\n",
    "from scipy.stats import ttest_ind\n",
    "\n",
    "pd.set_option('display.max_rows', 50) # показывать больше строк\n",
    "pd.set_option('display.max_columns', 50) # показывать больше колонок"
   ]
  },
  {
   "cell_type": "code",
   "execution_count": 3,
   "id": "46ea1726",
   "metadata": {},
   "outputs": [
    {
     "ename": "FileNotFoundError",
     "evalue": "[Errno 2] No such file or directory: 'stud_math.csv'",
     "output_type": "error",
     "traceback": [
      "\u001b[0;31m---------------------------------------------------------------------------\u001b[0m",
      "\u001b[0;31mFileNotFoundError\u001b[0m                         Traceback (most recent call last)",
      "\u001b[0;32m<ipython-input-3-03f2ef334366>\u001b[0m in \u001b[0;36m<module>\u001b[0;34m\u001b[0m\n\u001b[0;32m----> 1\u001b[0;31m \u001b[0mdata\u001b[0m \u001b[0;34m=\u001b[0m \u001b[0mpd\u001b[0m\u001b[0;34m.\u001b[0m\u001b[0mread_csv\u001b[0m\u001b[0;34m(\u001b[0m\u001b[0;34m'stud_math.csv'\u001b[0m\u001b[0;34m)\u001b[0m\u001b[0;34m\u001b[0m\u001b[0;34m\u001b[0m\u001b[0m\n\u001b[0m",
      "\u001b[0;32m~/opt/anaconda3/envs/py39s/lib/python3.9/site-packages/pandas/io/parsers.py\u001b[0m in \u001b[0;36mread_csv\u001b[0;34m(filepath_or_buffer, sep, delimiter, header, names, index_col, usecols, squeeze, prefix, mangle_dupe_cols, dtype, engine, converters, true_values, false_values, skipinitialspace, skiprows, skipfooter, nrows, na_values, keep_default_na, na_filter, verbose, skip_blank_lines, parse_dates, infer_datetime_format, keep_date_col, date_parser, dayfirst, cache_dates, iterator, chunksize, compression, thousands, decimal, lineterminator, quotechar, quoting, doublequote, escapechar, comment, encoding, dialect, error_bad_lines, warn_bad_lines, delim_whitespace, low_memory, memory_map, float_precision, storage_options)\u001b[0m\n\u001b[1;32m    608\u001b[0m     \u001b[0mkwds\u001b[0m\u001b[0;34m.\u001b[0m\u001b[0mupdate\u001b[0m\u001b[0;34m(\u001b[0m\u001b[0mkwds_defaults\u001b[0m\u001b[0;34m)\u001b[0m\u001b[0;34m\u001b[0m\u001b[0;34m\u001b[0m\u001b[0m\n\u001b[1;32m    609\u001b[0m \u001b[0;34m\u001b[0m\u001b[0m\n\u001b[0;32m--> 610\u001b[0;31m     \u001b[0;32mreturn\u001b[0m \u001b[0m_read\u001b[0m\u001b[0;34m(\u001b[0m\u001b[0mfilepath_or_buffer\u001b[0m\u001b[0;34m,\u001b[0m \u001b[0mkwds\u001b[0m\u001b[0;34m)\u001b[0m\u001b[0;34m\u001b[0m\u001b[0;34m\u001b[0m\u001b[0m\n\u001b[0m\u001b[1;32m    611\u001b[0m \u001b[0;34m\u001b[0m\u001b[0m\n\u001b[1;32m    612\u001b[0m \u001b[0;34m\u001b[0m\u001b[0m\n",
      "\u001b[0;32m~/opt/anaconda3/envs/py39s/lib/python3.9/site-packages/pandas/io/parsers.py\u001b[0m in \u001b[0;36m_read\u001b[0;34m(filepath_or_buffer, kwds)\u001b[0m\n\u001b[1;32m    460\u001b[0m \u001b[0;34m\u001b[0m\u001b[0m\n\u001b[1;32m    461\u001b[0m     \u001b[0;31m# Create the parser.\u001b[0m\u001b[0;34m\u001b[0m\u001b[0;34m\u001b[0m\u001b[0;34m\u001b[0m\u001b[0m\n\u001b[0;32m--> 462\u001b[0;31m     \u001b[0mparser\u001b[0m \u001b[0;34m=\u001b[0m \u001b[0mTextFileReader\u001b[0m\u001b[0;34m(\u001b[0m\u001b[0mfilepath_or_buffer\u001b[0m\u001b[0;34m,\u001b[0m \u001b[0;34m**\u001b[0m\u001b[0mkwds\u001b[0m\u001b[0;34m)\u001b[0m\u001b[0;34m\u001b[0m\u001b[0;34m\u001b[0m\u001b[0m\n\u001b[0m\u001b[1;32m    463\u001b[0m \u001b[0;34m\u001b[0m\u001b[0m\n\u001b[1;32m    464\u001b[0m     \u001b[0;32mif\u001b[0m \u001b[0mchunksize\u001b[0m \u001b[0;32mor\u001b[0m \u001b[0miterator\u001b[0m\u001b[0;34m:\u001b[0m\u001b[0;34m\u001b[0m\u001b[0;34m\u001b[0m\u001b[0m\n",
      "\u001b[0;32m~/opt/anaconda3/envs/py39s/lib/python3.9/site-packages/pandas/io/parsers.py\u001b[0m in \u001b[0;36m__init__\u001b[0;34m(self, f, engine, **kwds)\u001b[0m\n\u001b[1;32m    817\u001b[0m             \u001b[0mself\u001b[0m\u001b[0;34m.\u001b[0m\u001b[0moptions\u001b[0m\u001b[0;34m[\u001b[0m\u001b[0;34m\"has_index_names\"\u001b[0m\u001b[0;34m]\u001b[0m \u001b[0;34m=\u001b[0m \u001b[0mkwds\u001b[0m\u001b[0;34m[\u001b[0m\u001b[0;34m\"has_index_names\"\u001b[0m\u001b[0;34m]\u001b[0m\u001b[0;34m\u001b[0m\u001b[0;34m\u001b[0m\u001b[0m\n\u001b[1;32m    818\u001b[0m \u001b[0;34m\u001b[0m\u001b[0m\n\u001b[0;32m--> 819\u001b[0;31m         \u001b[0mself\u001b[0m\u001b[0;34m.\u001b[0m\u001b[0m_engine\u001b[0m \u001b[0;34m=\u001b[0m \u001b[0mself\u001b[0m\u001b[0;34m.\u001b[0m\u001b[0m_make_engine\u001b[0m\u001b[0;34m(\u001b[0m\u001b[0mself\u001b[0m\u001b[0;34m.\u001b[0m\u001b[0mengine\u001b[0m\u001b[0;34m)\u001b[0m\u001b[0;34m\u001b[0m\u001b[0;34m\u001b[0m\u001b[0m\n\u001b[0m\u001b[1;32m    820\u001b[0m \u001b[0;34m\u001b[0m\u001b[0m\n\u001b[1;32m    821\u001b[0m     \u001b[0;32mdef\u001b[0m \u001b[0mclose\u001b[0m\u001b[0;34m(\u001b[0m\u001b[0mself\u001b[0m\u001b[0;34m)\u001b[0m\u001b[0;34m:\u001b[0m\u001b[0;34m\u001b[0m\u001b[0;34m\u001b[0m\u001b[0m\n",
      "\u001b[0;32m~/opt/anaconda3/envs/py39s/lib/python3.9/site-packages/pandas/io/parsers.py\u001b[0m in \u001b[0;36m_make_engine\u001b[0;34m(self, engine)\u001b[0m\n\u001b[1;32m   1048\u001b[0m             )\n\u001b[1;32m   1049\u001b[0m         \u001b[0;31m# error: Too many arguments for \"ParserBase\"\u001b[0m\u001b[0;34m\u001b[0m\u001b[0;34m\u001b[0m\u001b[0;34m\u001b[0m\u001b[0m\n\u001b[0;32m-> 1050\u001b[0;31m         \u001b[0;32mreturn\u001b[0m \u001b[0mmapping\u001b[0m\u001b[0;34m[\u001b[0m\u001b[0mengine\u001b[0m\u001b[0;34m]\u001b[0m\u001b[0;34m(\u001b[0m\u001b[0mself\u001b[0m\u001b[0;34m.\u001b[0m\u001b[0mf\u001b[0m\u001b[0;34m,\u001b[0m \u001b[0;34m**\u001b[0m\u001b[0mself\u001b[0m\u001b[0;34m.\u001b[0m\u001b[0moptions\u001b[0m\u001b[0;34m)\u001b[0m  \u001b[0;31m# type: ignore[call-arg]\u001b[0m\u001b[0;34m\u001b[0m\u001b[0;34m\u001b[0m\u001b[0m\n\u001b[0m\u001b[1;32m   1051\u001b[0m \u001b[0;34m\u001b[0m\u001b[0m\n\u001b[1;32m   1052\u001b[0m     \u001b[0;32mdef\u001b[0m \u001b[0m_failover_to_python\u001b[0m\u001b[0;34m(\u001b[0m\u001b[0mself\u001b[0m\u001b[0;34m)\u001b[0m\u001b[0;34m:\u001b[0m\u001b[0;34m\u001b[0m\u001b[0;34m\u001b[0m\u001b[0m\n",
      "\u001b[0;32m~/opt/anaconda3/envs/py39s/lib/python3.9/site-packages/pandas/io/parsers.py\u001b[0m in \u001b[0;36m__init__\u001b[0;34m(self, src, **kwds)\u001b[0m\n\u001b[1;32m   1865\u001b[0m \u001b[0;34m\u001b[0m\u001b[0m\n\u001b[1;32m   1866\u001b[0m         \u001b[0;31m# open handles\u001b[0m\u001b[0;34m\u001b[0m\u001b[0;34m\u001b[0m\u001b[0;34m\u001b[0m\u001b[0m\n\u001b[0;32m-> 1867\u001b[0;31m         \u001b[0mself\u001b[0m\u001b[0;34m.\u001b[0m\u001b[0m_open_handles\u001b[0m\u001b[0;34m(\u001b[0m\u001b[0msrc\u001b[0m\u001b[0;34m,\u001b[0m \u001b[0mkwds\u001b[0m\u001b[0;34m)\u001b[0m\u001b[0;34m\u001b[0m\u001b[0;34m\u001b[0m\u001b[0m\n\u001b[0m\u001b[1;32m   1868\u001b[0m         \u001b[0;32massert\u001b[0m \u001b[0mself\u001b[0m\u001b[0;34m.\u001b[0m\u001b[0mhandles\u001b[0m \u001b[0;32mis\u001b[0m \u001b[0;32mnot\u001b[0m \u001b[0;32mNone\u001b[0m\u001b[0;34m\u001b[0m\u001b[0;34m\u001b[0m\u001b[0m\n\u001b[1;32m   1869\u001b[0m         \u001b[0;32mfor\u001b[0m \u001b[0mkey\u001b[0m \u001b[0;32min\u001b[0m \u001b[0;34m(\u001b[0m\u001b[0;34m\"storage_options\"\u001b[0m\u001b[0;34m,\u001b[0m \u001b[0;34m\"encoding\"\u001b[0m\u001b[0;34m,\u001b[0m \u001b[0;34m\"memory_map\"\u001b[0m\u001b[0;34m,\u001b[0m \u001b[0;34m\"compression\"\u001b[0m\u001b[0;34m)\u001b[0m\u001b[0;34m:\u001b[0m\u001b[0;34m\u001b[0m\u001b[0;34m\u001b[0m\u001b[0m\n",
      "\u001b[0;32m~/opt/anaconda3/envs/py39s/lib/python3.9/site-packages/pandas/io/parsers.py\u001b[0m in \u001b[0;36m_open_handles\u001b[0;34m(self, src, kwds)\u001b[0m\n\u001b[1;32m   1360\u001b[0m         \u001b[0mLet\u001b[0m \u001b[0mthe\u001b[0m \u001b[0mreaders\u001b[0m \u001b[0mopen\u001b[0m \u001b[0mIOHanldes\u001b[0m \u001b[0mafter\u001b[0m \u001b[0mthey\u001b[0m \u001b[0mare\u001b[0m \u001b[0mdone\u001b[0m \u001b[0;32mwith\u001b[0m \u001b[0mtheir\u001b[0m \u001b[0mpotential\u001b[0m \u001b[0mraises\u001b[0m\u001b[0;34m.\u001b[0m\u001b[0;34m\u001b[0m\u001b[0;34m\u001b[0m\u001b[0m\n\u001b[1;32m   1361\u001b[0m         \"\"\"\n\u001b[0;32m-> 1362\u001b[0;31m         self.handles = get_handle(\n\u001b[0m\u001b[1;32m   1363\u001b[0m             \u001b[0msrc\u001b[0m\u001b[0;34m,\u001b[0m\u001b[0;34m\u001b[0m\u001b[0;34m\u001b[0m\u001b[0m\n\u001b[1;32m   1364\u001b[0m             \u001b[0;34m\"r\"\u001b[0m\u001b[0;34m,\u001b[0m\u001b[0;34m\u001b[0m\u001b[0;34m\u001b[0m\u001b[0m\n",
      "\u001b[0;32m~/opt/anaconda3/envs/py39s/lib/python3.9/site-packages/pandas/io/common.py\u001b[0m in \u001b[0;36mget_handle\u001b[0;34m(path_or_buf, mode, encoding, compression, memory_map, is_text, errors, storage_options)\u001b[0m\n\u001b[1;32m    640\u001b[0m                 \u001b[0merrors\u001b[0m \u001b[0;34m=\u001b[0m \u001b[0;34m\"replace\"\u001b[0m\u001b[0;34m\u001b[0m\u001b[0;34m\u001b[0m\u001b[0m\n\u001b[1;32m    641\u001b[0m             \u001b[0;31m# Encoding\u001b[0m\u001b[0;34m\u001b[0m\u001b[0;34m\u001b[0m\u001b[0;34m\u001b[0m\u001b[0m\n\u001b[0;32m--> 642\u001b[0;31m             handle = open(\n\u001b[0m\u001b[1;32m    643\u001b[0m                 \u001b[0mhandle\u001b[0m\u001b[0;34m,\u001b[0m\u001b[0;34m\u001b[0m\u001b[0;34m\u001b[0m\u001b[0m\n\u001b[1;32m    644\u001b[0m                 \u001b[0mioargs\u001b[0m\u001b[0;34m.\u001b[0m\u001b[0mmode\u001b[0m\u001b[0;34m,\u001b[0m\u001b[0;34m\u001b[0m\u001b[0;34m\u001b[0m\u001b[0m\n",
      "\u001b[0;31mFileNotFoundError\u001b[0m: [Errno 2] No such file or directory: 'stud_math.csv'"
     ]
    }
   ],
   "source": [
    "data = pd.read_csv('stud_math.csv')"
   ]
  },
  {
   "cell_type": "code",
   "execution_count": null,
   "id": "69455a0b",
   "metadata": {},
   "outputs": [],
   "source": [
    "display(data.describe(include='object'))\n",
    "data.describe()"
   ]
  },
  {
   "cell_type": "code",
   "execution_count": null,
   "id": "6d2dcc86",
   "metadata": {},
   "outputs": [],
   "source": [
    "data.head()"
   ]
  },
  {
   "cell_type": "code",
   "execution_count": null,
   "id": "a9449572",
   "metadata": {},
   "outputs": [],
   "source": [
    "df = data.copy()"
   ]
  },
  {
   "cell_type": "markdown",
   "id": "d09c7176",
   "metadata": {},
   "source": [
    "# Описание датасета\n",
    "Посмотрим на переменные, которые содержит датасет:\n",
    "\n",
    "* **school** — аббревиатура школы, в которой учится ученик\n",
    "* **sex** — пол ученика ('F' - женский, 'M' - мужской)\n",
    "* **age** — возраст ученика (от 15 до 22)\n",
    "* **address** — тип адреса ученика ('U' - городской, 'R' - за городом)\n",
    "* **famsize** — размер семьи('LE3' <= 3, 'GT3' >3)\n",
    "* **Pstatus** — статус совместного жилья родителей ('T' - живут вместе 'A' - раздельно)\n",
    "* **Medu** — образование матери (0 - нет, 1 - 4 класса, 2 - 5-9 классы, 3 - среднее специальное или 11 классов, 4 - высшее)\n",
    "* **Fedu** — образование отца (0 - нет, 1 - 4 класса, 2 - 5-9 классы, 3 - среднее специальное или 11 классов, 4 - высшее)\n",
    "* **Mjob** — работа матери ('teacher' - учитель, 'health' - сфера здравоохранения, 'services' - гос служба, 'at_home' - не работает, 'other' - другое)\n",
    "* **Fjob** — работа отца ('teacher' - учитель, 'health' - сфера здравоохранения, 'services' - гос служба, 'at_home' - не работает, 'other' - другое)\n",
    "* **reason** — причина выбора школы ('home' - близость к дому, 'reputation' - репутация школы, 'course' - образовательная программа, 'other' - другое)\n",
    "* **guardian** — опекун ('mother' - мать, 'father' - отец, 'other' - другое)\n",
    "* **traveltime** — время в пути до школы (1 - <15 мин., 2 - 15-30 мин., 3 - 30-60 мин., 4 - >60 мин.)\n",
    "* **studytime** — время на учёбу помимо школы в неделю (1 - <2 часов, 2 - 2-5 часов, 3 - 5-10 часов, 4 - >10 часов)\n",
    "* **failures** — количество внеучебных неудач (n, если 1<=n<=3, иначе 0)\n",
    "* **schoolsup** — дополнительная образовательная поддержка (yes или no)\n",
    "* **famsup** — семейная образовательная поддержка (yes или no)\n",
    "* **paid** — дополнительные платные занятия по математике (yes или no)\n",
    "* **activities** — дополнительные внеучебные занятия (yes или no)\n",
    "* **nursery** — посещал детский сад (yes или no)\n",
    "* **higher** — хочет получить высшее образование (yes или no)\n",
    "* **internet** — наличие интернета дома (yes или no)\n",
    "* **romantic** — в романтических отношениях (yes или no)\n",
    "* **famrel** — семейные отношения (от 1 - очень плохо до 5 - очень хорошо)\n",
    "* **freetime** — свободное время после школы (от 1 - очень мало до 5 - очень мого)\n",
    "* **goout** — проведение времени с друзьями (от 1 - очень мало до 5 - очень много)\n",
    "* **health** — текущее состояние здоровья (от 1 - очень плохо до 5 - очень хорошо)\n",
    "* **absences** — количество пропущенных занятий\n",
    "* **score** — баллы по госэкзамену по математике\n"
   ]
  },
  {
   "cell_type": "code",
   "execution_count": null,
   "id": "6a2a6f6f",
   "metadata": {},
   "outputs": [],
   "source": [
    "df.info()"
   ]
  },
  {
   "cell_type": "code",
   "execution_count": null,
   "id": "af81f6ac",
   "metadata": {},
   "outputs": [],
   "source": [
    "# Количество NaN\n",
    "nan_df = pd.DataFrame(df.isna().sum(),columns=['NaN'])\n",
    "nan_df"
   ]
  },
  {
   "cell_type": "code",
   "execution_count": null,
   "id": "6a521662",
   "metadata": {},
   "outputs": [],
   "source": [
    "df.columns"
   ]
  },
  {
   "cell_type": "markdown",
   "id": "7220d069",
   "metadata": {},
   "source": [
    "****\n",
    "\n",
    "Рассмотрим все столбцы по отдельности."
   ]
  },
  {
   "cell_type": "markdown",
   "id": "bcaef73c",
   "metadata": {},
   "source": [
    "# <span style=\"color:green\">school</span>\n",
    "\n",
    "аббревиатура школы, в которой учится ученик"
   ]
  },
  {
   "cell_type": "code",
   "execution_count": null,
   "id": "b07cc301",
   "metadata": {},
   "outputs": [],
   "source": [
    "print(\"Количество уникальных школ в датасете: \", df.school.nunique())\n",
    "df['school'].value_counts()"
   ]
  },
  {
   "cell_type": "code",
   "execution_count": null,
   "id": "31101d0a",
   "metadata": {},
   "outputs": [],
   "source": [
    "df['school'].value_counts().plot(kind='bar',\n",
    "                                 grid=True,\n",
    "                                 title='Количество учеников в школах')"
   ]
  },
  {
   "cell_type": "markdown",
   "id": "5b68be37",
   "metadata": {},
   "source": [
    "**Вывод по столбцу school:** \n",
    "\n",
    "Всего 2 уникальных значения, отсутвуют незаполненные данные (это хорошо). Распределение учеников между школами неравномерное, количество учеников в школе GP больше, чем в MS, в 7.5 раз. \n",
    "\n",
    "Предположу, что для анализа предоставлен небольшой кусок датасета, в который попали всего 2 школы, при этом возможно данные по 2-ой школе неполные. \n",
    "\n",
    "Или Другой вариант: GP - городская школа (с большим количеством учеников), MS - загородная или частная специлизированная школа (с меньшим количеством учеников).\n",
    "\n",
    "*****"
   ]
  },
  {
   "cell_type": "markdown",
   "id": "43b3931c",
   "metadata": {},
   "source": [
    "# <span style=\"color:green\">sex</span>\n",
    "пол ученика ('F' - женский, 'M' - мужской)"
   ]
  },
  {
   "cell_type": "code",
   "execution_count": null,
   "id": "c9ffbc6a",
   "metadata": {},
   "outputs": [],
   "source": [
    "df.sex.value_counts()"
   ]
  },
  {
   "cell_type": "code",
   "execution_count": null,
   "id": "ca740342",
   "metadata": {},
   "outputs": [],
   "source": [
    "df['sex'].value_counts().plot(kind='bar',\n",
    "                              grid=True,\n",
    "                              title='Распределение учеников в школах по полу')"
   ]
  },
  {
   "cell_type": "markdown",
   "id": "178fc5e3",
   "metadata": {},
   "source": [
    "**Вывод по столбцу sex:** \n",
    "\n",
    "Категориальный (бинарный) признак (F и M), Отсутвуют незаполненные данные (это хорошо). В данной выборке девочек на 11% больше, чем мальчиков.\n",
    "\n",
    "*****"
   ]
  },
  {
   "cell_type": "markdown",
   "id": "ff1ab213",
   "metadata": {},
   "source": [
    "# <span style=\"color:green\">age</span>\n",
    "\n",
    "возраст ученика (от 15 до 22)"
   ]
  },
  {
   "cell_type": "code",
   "execution_count": null,
   "id": "f3c4e966",
   "metadata": {},
   "outputs": [],
   "source": [
    "df.age.value_counts()"
   ]
  },
  {
   "cell_type": "code",
   "execution_count": null,
   "id": "d6bdf4c1",
   "metadata": {},
   "outputs": [],
   "source": [
    "sns.countplot(x='age', data=df, label='age')"
   ]
  },
  {
   "cell_type": "code",
   "execution_count": null,
   "id": "acb48fe3",
   "metadata": {},
   "outputs": [],
   "source": [
    "sns.boxplot(y = 'score', x = 'age', data=df)"
   ]
  },
  {
   "cell_type": "markdown",
   "id": "8234063a",
   "metadata": {},
   "source": [
    "**Вывод по столбцу age:** \n",
    "\n",
    "Содержит числовые данные, пустых значений нет!\n",
    "Заполнен корректно - соответвуют описанию (от 15 до 22).\n",
    "\n",
    "Судя по графику можно предположить, что ученики по возрасту распределены приблизительно нормально.\n",
    "\n",
    "*****"
   ]
  },
  {
   "cell_type": "markdown",
   "id": "bf2b2f18",
   "metadata": {},
   "source": [
    "# <span style=\"color:green\">address</span>\n",
    "\n",
    "тип адреса ученика ('U' - городской, 'R' - за городом)\n",
    "\n",
    "Номинативный признак"
   ]
  },
  {
   "cell_type": "code",
   "execution_count": null,
   "id": "ab5fd2b7",
   "metadata": {},
   "outputs": [],
   "source": [
    "display(pd.DataFrame(df.address.value_counts(dropna=False)))"
   ]
  },
  {
   "cell_type": "code",
   "execution_count": null,
   "id": "c0be6601",
   "metadata": {},
   "outputs": [],
   "source": [
    "df['address'].value_counts().plot(kind='bar',\n",
    "                                  grid=True,\n",
    "                                  title='Распределение учеников в школах по адресу')"
   ]
  },
  {
   "cell_type": "markdown",
   "id": "0153d87a",
   "metadata": {},
   "source": [
    "**Вывод по столбцу address:** \n",
    "\n",
    "Категориальный признак (U и R).\n",
    "Количество учеников, живуших в городу, больше в 3.5 раза, чем живуших за городом. "
   ]
  },
  {
   "cell_type": "markdown",
   "id": "770207f3",
   "metadata": {},
   "source": [
    "<span style=\"color:red\">Содержит 17 пустых значений!</span>\n",
    "\n",
    "Варианты избавления от пустых значений:\n",
    "* можно предположить взаимосвязь школы, адреса и время в пути до школы (school, address, traveltime):"
   ]
  },
  {
   "cell_type": "code",
   "execution_count": null,
   "id": "34632190",
   "metadata": {},
   "outputs": [],
   "source": [
    "df.pivot_table(values='age',\n",
    "               index='address',\n",
    "               columns='school',\n",
    "               aggfunc='count',\n",
    "               margins=True,\n",
    "               fill_value=0,\n",
    "               dropna=False)"
   ]
  },
  {
   "cell_type": "code",
   "execution_count": null,
   "id": "39e1b7c5",
   "metadata": {},
   "outputs": [],
   "source": [
    "df.pivot_table(values='traveltime',\n",
    "               index='address',\n",
    "               columns='school',\n",
    "               aggfunc='median',\n",
    "               margins=True,\n",
    "               fill_value=0,\n",
    "               dropna=False)"
   ]
  },
  {
   "cell_type": "markdown",
   "id": "99d2774e",
   "metadata": {},
   "source": [
    "До школы MS в среднем добираться дольше. Ученики, живущие за городом, добираются дольше. "
   ]
  },
  {
   "cell_type": "code",
   "execution_count": null,
   "id": "3190d8bb",
   "metadata": {},
   "outputs": [],
   "source": [
    "# df.groupby(['school', 'traveltime', 'address']).age.count()\n"
   ]
  },
  {
   "cell_type": "code",
   "execution_count": null,
   "id": "85539901",
   "metadata": {},
   "outputs": [],
   "source": [
    "df.groupby(['traveltime', 'address']).age.count()"
   ]
  },
  {
   "cell_type": "code",
   "execution_count": null,
   "id": "2aee1cf5",
   "metadata": {},
   "outputs": [],
   "source": [
    "# display(df[df.address.isnull()])"
   ]
  },
  {
   "cell_type": "markdown",
   "id": "c57ae58b",
   "metadata": {},
   "source": [
    "Предлагаю заменить пропуски на R, traveltime > 2, остальное на U  \n"
   ]
  },
  {
   "cell_type": "code",
   "execution_count": null,
   "id": "f542cd96",
   "metadata": {},
   "outputs": [],
   "source": [
    "df['address'] = df.apply(lambda x: ('R' if (\n",
    "    x.traveltime > 2) else 'U') if pd.isna(x.address) else x.address, axis=1)"
   ]
  },
  {
   "cell_type": "code",
   "execution_count": null,
   "id": "994794ca",
   "metadata": {},
   "outputs": [],
   "source": [
    "# df.groupby(['school', 'traveltime', 'address']).age.count()"
   ]
  },
  {
   "cell_type": "markdown",
   "id": "0aad17af",
   "metadata": {},
   "source": [
    "******\n",
    "# <span style=\"color:green\">famsize</span>\n",
    "\n",
    "размер семьи('LE3' <= 3, 'GT3' >3)"
   ]
  },
  {
   "cell_type": "code",
   "execution_count": null,
   "id": "ae268dc3",
   "metadata": {},
   "outputs": [],
   "source": [
    "display(pd.DataFrame(df.famsize.value_counts(dropna=False)))"
   ]
  },
  {
   "cell_type": "code",
   "execution_count": null,
   "id": "5161e15f",
   "metadata": {},
   "outputs": [],
   "source": [
    "df['famsize'].value_counts().plot(kind='bar',\n",
    "                                  grid=True,\n",
    "                                  title='Распределение учеников по признаку \"Размер семьи\"')"
   ]
  },
  {
   "cell_type": "markdown",
   "id": "8b4ce9f6",
   "metadata": {},
   "source": [
    "**Вывод по столбцу famsize:** \n",
    "\n",
    "Категориальный признак.\n",
    "Семьи, более 3 человек, преобладают в выборке."
   ]
  },
  {
   "cell_type": "markdown",
   "id": "56252e44",
   "metadata": {},
   "source": [
    "<span style=\"color:red\">Содержит 27 пустых значений!</span> \n"
   ]
  },
  {
   "cell_type": "code",
   "execution_count": null,
   "id": "fa08942e",
   "metadata": {},
   "outputs": [],
   "source": [
    "df.pivot_table(values='age',\n",
    "               index='Pstatus',\n",
    "               columns='famsize',\n",
    "               aggfunc='count',\n",
    "               margins=True,\n",
    "               fill_value=0,\n",
    "               dropna=False\n",
    "               )"
   ]
  },
  {
   "cell_type": "code",
   "execution_count": null,
   "id": "e4b4306c",
   "metadata": {},
   "outputs": [],
   "source": [
    "# display(df[df.famsize.isnull()])"
   ]
  },
  {
   "cell_type": "markdown",
   "id": "fec47945",
   "metadata": {},
   "source": [
    "Семьи GT3 преобладают в выборке не зависимо от живут родители вместе или нет (при этом по пустым значения у большинства родители живут вместе). \n",
    "Склоняюсь к варианту замены пустых на GT3 (наиболее часто встречающееся), хотя пустых почти 7%... Вернусь к этому позже "
   ]
  },
  {
   "cell_type": "markdown",
   "id": "ab9905eb",
   "metadata": {},
   "source": [
    "****\n",
    "\n",
    "# <span style=\"color:green\">Pstatus</span>\n",
    "\n",
    "статус совместного жилья родителей ('T' - живут вместе 'A' - раздельно)"
   ]
  },
  {
   "cell_type": "code",
   "execution_count": null,
   "id": "ace715f6",
   "metadata": {},
   "outputs": [],
   "source": [
    "display(pd.DataFrame(df.Pstatus.value_counts(dropna=False)))"
   ]
  },
  {
   "cell_type": "code",
   "execution_count": null,
   "id": "79e22b10",
   "metadata": {},
   "outputs": [],
   "source": [
    "df['Pstatus'].value_counts().plot(kind='bar',\n",
    "                                  grid=True,\n",
    "                                  title='Распределение учеников по признаку \"Статус совместного жилья родителей\"')"
   ]
  },
  {
   "cell_type": "markdown",
   "id": "884f0e37",
   "metadata": {},
   "source": [
    "**Вывод по столбцу famsize и Pstatus:** \n",
    "\n",
    "Категориальные признак.\n",
    "\n",
    "<span style=\"color:red\">Содержит 45 пустых значений! Достаточно много </span> \n",
    "\n",
    "\n",
    "Семьи более 3 человек - 71% в датасете; \n",
    "Семьи, где родители живут вместе - 90%.\n",
    "\n",
    "Пустые можно заполнить: \n",
    "* наиболее часто встречающимся (Т или GT3) \n",
    "* cлучайно заполнить возможными значениями (и/или сохраняя пропорцию распределения) по каждому столбцу\n",
    "* изучить взаимосвязь размер семьи и статус совместного проживания (famsize, Pstatus) - В семьях, более 3 человек - родители проживают совместно\n"
   ]
  },
  {
   "cell_type": "code",
   "execution_count": null,
   "id": "617e901c",
   "metadata": {},
   "outputs": [],
   "source": [
    "df.pivot_table(values='age',\n",
    "               index='Pstatus',\n",
    "               columns='famsize',\n",
    "               aggfunc='count',\n",
    "               margins=True,\n",
    "               fill_value=0,\n",
    "               dropna=False\n",
    "               )"
   ]
  },
  {
   "cell_type": "code",
   "execution_count": null,
   "id": "121b035f",
   "metadata": {},
   "outputs": [],
   "source": [
    "df.groupby(['Pstatus', 'famsize']).age.count()"
   ]
  },
  {
   "cell_type": "code",
   "execution_count": null,
   "id": "3f6b6263",
   "metadata": {},
   "outputs": [],
   "source": [
    "# display(df[df.Pstatus.isnull()])"
   ]
  },
  {
   "cell_type": "code",
   "execution_count": null,
   "id": "d93bb9d0",
   "metadata": {},
   "outputs": [],
   "source": [
    "len(df[(df.famsize == 'GT3') & (df.Pstatus.isnull())])"
   ]
  },
  {
   "cell_type": "markdown",
   "id": "d51211f8",
   "metadata": {},
   "source": [
    "Семьи T значительно преобладают в выборке (в семьях более 3 человек и менее). \n",
    "Склоняюсь к варианту замены пустых на T (наиболее часто встречающееся), хотя пустых более 11%... Вернусь к этому позже "
   ]
  },
  {
   "cell_type": "markdown",
   "id": "4e9b88e7",
   "metadata": {},
   "source": [
    "****\n",
    "\n",
    "# <span style=\"color:green\">Medu</span>\n",
    "\n",
    "образование матери:\n",
    "* 0 - нет, \n",
    "* 1 - 4 класса, \n",
    "* 2 - 5-9 классы, \n",
    "* 3 - среднее специальное или 11 классов, \n",
    "* 4 - высшее.\n",
    "\n",
    "Номинативный признак"
   ]
  },
  {
   "cell_type": "code",
   "execution_count": null,
   "id": "c3a7616b",
   "metadata": {},
   "outputs": [],
   "source": [
    "display(pd.DataFrame(df.Medu.value_counts(dropna=False)))"
   ]
  },
  {
   "cell_type": "markdown",
   "id": "492824e1",
   "metadata": {},
   "source": [
    "<span style=\"color:red\">Содержит 3 пустых значений!</span> \n",
    "\n",
    "Заменим на наиболее часто встречающееся:"
   ]
  },
  {
   "cell_type": "code",
   "execution_count": null,
   "id": "e735ca93",
   "metadata": {},
   "outputs": [],
   "source": [
    "df['Medu'] = df['Medu'].fillna(df['Medu'].mode()[0])\n",
    "display(pd.DataFrame(df.Medu.value_counts(dropna=False)))"
   ]
  },
  {
   "cell_type": "code",
   "execution_count": null,
   "id": "de4cc3d8",
   "metadata": {},
   "outputs": [],
   "source": [
    "# df['Medu'].value_counts().plot(kind='bar',\n",
    "#                                grid=True,\n",
    "#                                title='Распределение учеников по признаку \"Образование матери\"')"
   ]
  },
  {
   "cell_type": "code",
   "execution_count": null,
   "id": "087b3790",
   "metadata": {},
   "outputs": [],
   "source": [
    "sns.countplot(x='Medu', data=df)"
   ]
  },
  {
   "cell_type": "markdown",
   "id": "f3f4f44b",
   "metadata": {},
   "source": [
    "****\n",
    "# <span style=\"color:green\">Fedu</span>\n",
    "\n",
    "образование матери:\n",
    "* 0 - нет, \n",
    "* 1 - 4 класса, \n",
    "* 2 - 5-9 классы, \n",
    "* 3 - среднее специальное или 11 классов, \n",
    "* 4 - высшее.\n",
    "\n",
    "Номинативный признак"
   ]
  },
  {
   "cell_type": "code",
   "execution_count": null,
   "id": "0f9b2fd3",
   "metadata": {},
   "outputs": [],
   "source": [
    "display(pd.DataFrame(df.Fedu.value_counts(dropna=False)))"
   ]
  },
  {
   "cell_type": "markdown",
   "id": "1c23af3a",
   "metadata": {},
   "source": [
    "В датасете по столбцу содержится Ошибка - 40.0, скорее всего опечатка, добавлен лишний 0 - заменим на 4.0: "
   ]
  },
  {
   "cell_type": "code",
   "execution_count": null,
   "id": "b3a6cde0",
   "metadata": {},
   "outputs": [],
   "source": [
    "df.loc[df['Fedu'] == 40.0, 'Fedu'] = 4.0\n",
    "display(pd.DataFrame(df.Fedu.value_counts(dropna=False)))"
   ]
  },
  {
   "cell_type": "markdown",
   "id": "ddaa7148",
   "metadata": {},
   "source": [
    "<span style=\"color:red\">Содержит 24 пустых значений!</span> "
   ]
  },
  {
   "cell_type": "code",
   "execution_count": null,
   "id": "ce3952f3",
   "metadata": {},
   "outputs": [],
   "source": [
    "# df['Fedu'].value_counts().plot(kind='bar',\n",
    "#                                grid=True,\n",
    "#                                title='Распределение учеников по признаку \"Образование отца\"')"
   ]
  },
  {
   "cell_type": "code",
   "execution_count": null,
   "id": "6c724bac",
   "metadata": {},
   "outputs": [],
   "source": [
    "sns.countplot(x='Fedu', data=df)\n"
   ]
  },
  {
   "cell_type": "code",
   "execution_count": null,
   "id": "cde9995e",
   "metadata": {},
   "outputs": [],
   "source": [
    "df[['Medu', 'Fedu']].plot(kind='hist',\n",
    "                            bins=5,\n",
    "                            grid=True,\n",
    "                            subplots=True,\n",
    "                            title=['Medu', 'Fedu'],\n",
    "                            legend=False)"
   ]
  },
  {
   "cell_type": "code",
   "execution_count": null,
   "id": "8a2ff0f7",
   "metadata": {},
   "outputs": [],
   "source": [
    "fig, ax =plt.subplots(1,2)\n",
    "sns.countplot(x=df['Medu'], data=df, ax=ax[0])\n",
    "sns.countplot(x=df['Fedu'], data=df, ax=ax[1])"
   ]
  },
  {
   "cell_type": "code",
   "execution_count": null,
   "id": "dc57c6f8",
   "metadata": {},
   "outputs": [],
   "source": [
    "df.pivot_table('sex', index='Medu', columns='Fedu', aggfunc=['count'], fill_value=\"\",\n",
    "                 dropna=True, margins=True)"
   ]
  },
  {
   "cell_type": "code",
   "execution_count": null,
   "id": "b0000a45",
   "metadata": {},
   "outputs": [],
   "source": [
    "print('Признаки Medu и Fedu равны:', len(df[df.Medu == df.Fedu]))\n",
    "print('Признаки Medu и Fedu неравны:', len(df[df.Medu != df.Fedu]), 'в том числе 3 + 24 пустые значения')"
   ]
  },
  {
   "cell_type": "code",
   "execution_count": null,
   "id": "8f6049f9",
   "metadata": {},
   "outputs": [],
   "source": [
    "# df[pd.isnull(df['Medu'])]\n",
    "# df[pd.isnull(df['Fedu'])]"
   ]
  },
  {
   "cell_type": "code",
   "execution_count": null,
   "id": "6101436c",
   "metadata": {},
   "outputs": [],
   "source": [
    "df.loc[:,['Medu','Fedu']].corr()"
   ]
  },
  {
   "cell_type": "markdown",
   "id": "a8e11b78",
   "metadata": {},
   "source": [
    "**Вывод по столбцу Medu и Fedu:** \n",
    "\n",
    "Категориальный признак (имеет 5 значений).\n",
    "Образование матери в среднем лучше образования отца (судя по графикам).\n",
    "\n",
    "Сложно представить в настоящее время людей без образования (0) или 4 класса (1). Для Medu - 62, для Fedu - 80 - это 15% и 20% соответвенно. \n",
    " Поэтому необходимы уточнения по выборке данных (какие страны/регионы, дата сбора информации, актуальность и тп). \n",
    "\n",
    "Варианты заполнения пустых значений:\n",
    "* Модой\n",
    "* оценить взаимосвязь между Medu и Fedu (у семейных пар схожее образование - достаточно высокая корреляция)\n",
    "* изучить взаимосвязь между Medu и Mjob; Fedu и Fjob\n"
   ]
  },
  {
   "cell_type": "code",
   "execution_count": null,
   "id": "4d8b7aaa",
   "metadata": {},
   "outputs": [],
   "source": [
    "df['Fedu'] = df.apply(lambda x: x.Medu if pd.isna(x.Fedu) else x.Fedu , axis=1)"
   ]
  },
  {
   "cell_type": "code",
   "execution_count": null,
   "id": "97b57e97",
   "metadata": {},
   "outputs": [],
   "source": [
    "# df[df.Fedu.isnull()]"
   ]
  },
  {
   "cell_type": "markdown",
   "id": "55630766",
   "metadata": {},
   "source": [
    "****\n",
    "# <span style=\"color:green\">Mjob</span>\n",
    "\n",
    "работа матери:\n",
    "* 'teacher' - учитель, \n",
    "* 'health' - сфера здравоохранения, \n",
    "* 'services' - гос служба, \n",
    "* 'at_home' - не работает, \n",
    "* 'other' - другое.\n",
    "\n",
    "Номинативный признак"
   ]
  },
  {
   "cell_type": "code",
   "execution_count": null,
   "id": "21e6222b",
   "metadata": {},
   "outputs": [],
   "source": [
    "display(pd.DataFrame(df.Mjob.value_counts(dropna=False)))"
   ]
  },
  {
   "cell_type": "markdown",
   "id": "fecdab93",
   "metadata": {},
   "source": [
    "<span style=\"color:red\">Содержит 19 пустых значений!</span> "
   ]
  },
  {
   "cell_type": "code",
   "execution_count": null,
   "id": "51ce60ea",
   "metadata": {},
   "outputs": [],
   "source": [
    "sns.countplot(x='Mjob', data=df)"
   ]
  },
  {
   "cell_type": "code",
   "execution_count": null,
   "id": "38e1dd72",
   "metadata": {},
   "outputs": [],
   "source": [
    "# df['Mjob'].value_counts().plot(kind='bar',\n",
    "#                                grid=True,\n",
    "#                                title='Распределение учеников по признаку \"Работа матери\"')"
   ]
  },
  {
   "cell_type": "markdown",
   "id": "2c45eed8",
   "metadata": {},
   "source": [
    "Поскольку сферу деятельности мамы в случаях пропусках не представляется возможным определить, заменим пропуски на значение \"other\", тем более, что оно самое популярное."
   ]
  },
  {
   "cell_type": "code",
   "execution_count": null,
   "id": "41e4c519",
   "metadata": {},
   "outputs": [],
   "source": [
    "df.Mjob = df.Mjob.fillna('other')"
   ]
  },
  {
   "cell_type": "markdown",
   "id": "6e0d2a0a",
   "metadata": {},
   "source": [
    "****\n",
    "# <span style=\"color:green\">Fjob</span>\n",
    "\n",
    "работа матери:\n",
    "* 'teacher' - учитель, \n",
    "* 'health' - сфера здравоохранения, \n",
    "* 'services' - гос служба, \n",
    "* 'at_home' - не работает, \n",
    "* 'other' - другое.\n",
    "\n",
    "Номинативный признак"
   ]
  },
  {
   "cell_type": "code",
   "execution_count": null,
   "id": "5ee0cdb7",
   "metadata": {},
   "outputs": [],
   "source": [
    "display(pd.DataFrame(df.Fjob.value_counts(dropna=False)))"
   ]
  },
  {
   "cell_type": "markdown",
   "id": "f1e595a6",
   "metadata": {},
   "source": [
    "<span style=\"color:red\">Содержит 36 пустых значений!</span> "
   ]
  },
  {
   "cell_type": "code",
   "execution_count": null,
   "id": "4f729133",
   "metadata": {},
   "outputs": [],
   "source": [
    "sns.countplot(x='Fjob', data=df)"
   ]
  },
  {
   "cell_type": "code",
   "execution_count": null,
   "id": "ec696433",
   "metadata": {},
   "outputs": [],
   "source": [
    "# df['Fjob'].value_counts().plot(kind='bar',\n",
    "#                                grid=True,\n",
    "#                                title='Распределение учеников по признаку \"Работа отца\"')"
   ]
  },
  {
   "cell_type": "markdown",
   "id": "df15ace3",
   "metadata": {},
   "source": [
    "**Вывод по столбцу Mjob и Fjob:** \n",
    "\n",
    "Категориальный признак (имеет 5 значений).\n",
    "\n",
    "\n",
    "Варианты заполнения пустых значений:\n",
    "* Модой\n",
    "* поискать взаимосвязь между Mjob и Fjob (у 147 учеников место работы родитилей совпадает)\n",
    "* поискать взаимосвязь между Medu и Mjob; Fedu и Fjob\n",
    "\n",
    "Здравый смысл: У учителей должно быть высшее образование.\n",
    "Из наблюдений: 95% матерей-учителей имеют высшее образование (4 категория), у остальных - 3 категория. \n",
    "У отцов-учителей есть 3 пыстых значения - можно распределить эти пустые согласно доли 95% - категория 4, остальное 3. "
   ]
  },
  {
   "cell_type": "code",
   "execution_count": null,
   "id": "4f77916d",
   "metadata": {},
   "outputs": [],
   "source": [
    "len(df[df.Mjob == df.Fjob])"
   ]
  },
  {
   "cell_type": "code",
   "execution_count": null,
   "id": "d9c9ee75",
   "metadata": {},
   "outputs": [],
   "source": [
    "# df[df.Fjob.isnull()]"
   ]
  },
  {
   "cell_type": "markdown",
   "id": "253d3d94",
   "metadata": {},
   "source": [
    "Как и в предыдущем признаке, заменим пропуски на \"other\":"
   ]
  },
  {
   "cell_type": "code",
   "execution_count": null,
   "id": "a83cd7ff",
   "metadata": {},
   "outputs": [],
   "source": [
    "df.Fjob = df.Fjob.fillna('other')"
   ]
  },
  {
   "cell_type": "markdown",
   "id": "b7ada6c3",
   "metadata": {},
   "source": [
    "****\n",
    "# <span style=\"color:green\">reason</span>\n",
    "\n",
    "причина выбора школы:\n",
    "* 'home' - близость к дому, \n",
    "* 'reputation' - репутация школы, \n",
    "* 'course' - образовательная программа, \n",
    "* 'at_home' - не работает, \n",
    "* 'other' - другое.\n",
    "\n",
    "Номинативный признак"
   ]
  },
  {
   "cell_type": "code",
   "execution_count": null,
   "id": "cd30704e",
   "metadata": {},
   "outputs": [],
   "source": [
    "display(pd.DataFrame(df.reason.value_counts(dropna=False)))"
   ]
  },
  {
   "cell_type": "markdown",
   "id": "c479b315",
   "metadata": {},
   "source": [
    "<span style=\"color:red\">Содержит 17 пустых значений!</span> "
   ]
  },
  {
   "cell_type": "code",
   "execution_count": null,
   "id": "6357f9ed",
   "metadata": {},
   "outputs": [],
   "source": [
    "sns.countplot(x='reason', data=df)"
   ]
  },
  {
   "cell_type": "code",
   "execution_count": null,
   "id": "d97492c9",
   "metadata": {},
   "outputs": [],
   "source": [
    "df.groupby(['traveltime', 'reason']).age.count()"
   ]
  },
  {
   "cell_type": "code",
   "execution_count": null,
   "id": "05f1eff6",
   "metadata": {},
   "outputs": [],
   "source": [
    "sns.boxplot(y = 'score', x = 'reason', data=df)"
   ]
  },
  {
   "cell_type": "markdown",
   "id": "1af1a4aa",
   "metadata": {},
   "source": [
    "Варианты замены пустых:\n",
    "- мода (курс)\n",
    "- близость к дому (но это неочевидно из наших данных)\n",
    "\n",
    "поэтому заменим на моду:\n"
   ]
  },
  {
   "cell_type": "code",
   "execution_count": null,
   "id": "1d791b59",
   "metadata": {},
   "outputs": [],
   "source": [
    "df.reason = df.reason.fillna('course')"
   ]
  },
  {
   "cell_type": "markdown",
   "id": "b7b84634",
   "metadata": {},
   "source": [
    "****\n",
    "# <span style=\"color:green\">guardian</span>\n",
    "\n",
    "опекун \n",
    "* 'mother' - мать, \n",
    "* 'father' - отец,\n",
    "* 'other' - другое.\n",
    "\n",
    "Номинативный признак"
   ]
  },
  {
   "cell_type": "code",
   "execution_count": null,
   "id": "beb650b6",
   "metadata": {},
   "outputs": [],
   "source": [
    "display(pd.DataFrame(df.guardian.value_counts(dropna=False)))"
   ]
  },
  {
   "cell_type": "markdown",
   "id": "20f22b1c",
   "metadata": {},
   "source": [
    "<span style=\"color:red\">Содержит 31 пустых значений!</span> "
   ]
  },
  {
   "cell_type": "code",
   "execution_count": null,
   "id": "8643468f",
   "metadata": {},
   "outputs": [],
   "source": [
    "# df[df.guardian.isnull()]"
   ]
  },
  {
   "cell_type": "code",
   "execution_count": null,
   "id": "4a5e416d",
   "metadata": {},
   "outputs": [],
   "source": [
    "sns.countplot(x='guardian', data=df)"
   ]
  },
  {
   "cell_type": "markdown",
   "id": "a08be4eb",
   "metadata": {},
   "source": [
    "**Комментарии к столбцу guardian**\n",
    "\n",
    "Наибольшее значение - мать - очень предсказуемо. \n",
    "\n",
    "Вариант заполнения пустых - самым часто встречающимся или пропорционально."
   ]
  },
  {
   "cell_type": "code",
   "execution_count": null,
   "id": "782409fa",
   "metadata": {},
   "outputs": [],
   "source": [
    "df.guardian = df.guardian.fillna('mother')"
   ]
  },
  {
   "cell_type": "markdown",
   "id": "19e02735",
   "metadata": {},
   "source": [
    "****\n",
    "# <span style=\"color:green\">traveltime</span>\n",
    "\n",
    "время в пути до школы\n",
    "* 1 - <15 мин., \n",
    "* 2 - 15-30 мин.,\n",
    "* 3 - 30-60 мин.\n",
    "* 4 - >60 мин."
   ]
  },
  {
   "cell_type": "code",
   "execution_count": null,
   "id": "bb148d42",
   "metadata": {},
   "outputs": [],
   "source": [
    "display(pd.DataFrame(df.traveltime.value_counts(dropna=False)))"
   ]
  },
  {
   "cell_type": "markdown",
   "id": "7ff1a56e",
   "metadata": {},
   "source": [
    "<span style=\"color:red\">Содержит 28 пустых значений!</span> "
   ]
  },
  {
   "cell_type": "code",
   "execution_count": null,
   "id": "e7768c2e",
   "metadata": {},
   "outputs": [],
   "source": [
    "sns.countplot(x='traveltime', data=df)"
   ]
  },
  {
   "cell_type": "markdown",
   "id": "58e61a83",
   "metadata": {},
   "source": [
    "**Комментарии к столбцу traveltime**\n",
    "\n",
    "На первый взгляд:\n",
    "\n",
    "1. В этих данных мода = 1 (самое короткое время - достаточно разумно и логично) - можно предложить пустые заполнить этим значением. \n",
    " \n",
    "2. Значения 1 и 2 встречаются в более 85% случаях - можно заполнить пустые значения пропорционально этим 2 категориям.\n",
    " \n",
    "или:\n",
    "\n",
    "3. Сравнить с address: Для городских жителей время в пути в 90% случаях это категория 1 (большая часть) и 2. Таким образом мы сможем заполнить 18 пустых ячеек. Аналогично для живуших за городом - там распределение между тремя категориями.\n",
    "\n",
    "4. Сопоставить school, address и traveltime. Хотя помним - возможно предложенный датасета является частью и данные по второй школе неполные и тогда этот пункт некорректно рассматривать.\n",
    "\n",
    "5. Сравнить с reason (home): вероятно имеется в виду близость к дому (значение 1 и 2 - в данном случае составялют 90%)\n",
    "  "
   ]
  },
  {
   "cell_type": "code",
   "execution_count": null,
   "id": "bcff73e0",
   "metadata": {},
   "outputs": [],
   "source": [
    "# df.groupby(['school', 'address', 'traveltime']).age.count()\n",
    "\n",
    "df.pivot_table(values='traveltime',\n",
    "               index='address',\n",
    "               columns='school',\n",
    "               aggfunc='median',\n",
    "               margins=True,\n",
    "               fill_value=0,\n",
    "               dropna=False)"
   ]
  },
  {
   "cell_type": "code",
   "execution_count": null,
   "id": "19089e3f",
   "metadata": {},
   "outputs": [],
   "source": [
    "# df[df.traveltime.isnull()]"
   ]
  },
  {
   "cell_type": "markdown",
   "id": "deb6ecd7",
   "metadata": {},
   "source": [
    "Исходя из выше предложенного предлагаю заменить пропуски на 1, если у ученика городской адрес, и заменить пропуск на 2, если ученик проживает за городом."
   ]
  },
  {
   "cell_type": "code",
   "execution_count": null,
   "id": "a6664821",
   "metadata": {},
   "outputs": [],
   "source": [
    "df['traveltime'] = df.apply(lambda x: (2 if x.address == 'R' else 1)\\\n",
    "                             if pd.isna(x.traveltime) else x.traveltime , axis=1)"
   ]
  },
  {
   "cell_type": "markdown",
   "id": "ed170c2b",
   "metadata": {},
   "source": [
    "****\n",
    "# <span style=\"color:green\">studytime</span>\n",
    "\n",
    "время на учёбу помимо школы в неделю \n",
    "* 1 - <2 часов, \n",
    "* 2 - 2-5 часов,\n",
    "* 3 - 5-10 часов,\n",
    "* 4 - >10 часов."
   ]
  },
  {
   "cell_type": "code",
   "execution_count": null,
   "id": "ab50ebc9",
   "metadata": {},
   "outputs": [],
   "source": [
    "display(pd.DataFrame(df.studytime.value_counts(dropna=False)))"
   ]
  },
  {
   "cell_type": "markdown",
   "id": "36b6a9d9",
   "metadata": {},
   "source": [
    "<span style=\"color:red\">Содержит 7 пустых значений!</span> "
   ]
  },
  {
   "cell_type": "code",
   "execution_count": null,
   "id": "2589d77b",
   "metadata": {},
   "outputs": [],
   "source": [
    "sns.countplot(x='studytime', data=df)"
   ]
  },
  {
   "cell_type": "markdown",
   "id": "1d001bdf",
   "metadata": {},
   "source": [
    "**Комментарии к studytime**\n",
    "\n",
    "Распределение похоже на нормальное, слега смещенное вправо (скорее всего смещение вызвано неодинаковыми временными интервалами) . \n",
    "\n",
    "Пустых значение немного - можно заполнить мода  - 2"
   ]
  },
  {
   "cell_type": "code",
   "execution_count": null,
   "id": "0aaa9836",
   "metadata": {},
   "outputs": [],
   "source": [
    "df['studytime'] = df['studytime'].fillna(df['studytime'].mode()[0])\n",
    "display(pd.DataFrame(df.studytime.value_counts(dropna=False)))"
   ]
  },
  {
   "cell_type": "markdown",
   "id": "640104e5",
   "metadata": {},
   "source": [
    "****\n",
    "# <span style=\"color:green\">failures</span>\n",
    "\n",
    "количество внеучебных неудач (n, если 1<=n<=3, иначе 0)"
   ]
  },
  {
   "cell_type": "code",
   "execution_count": null,
   "id": "ed3e9d2a",
   "metadata": {},
   "outputs": [],
   "source": [
    "display(pd.DataFrame(df.failures.value_counts(dropna=False)))\n",
    "sns.countplot(x='failures', data=df)"
   ]
  },
  {
   "cell_type": "markdown",
   "id": "d3abc330",
   "metadata": {},
   "source": [
    "<span style=\"color:red\">Содержит 22 пустых значений!</span> "
   ]
  },
  {
   "cell_type": "markdown",
   "id": "b115ff02",
   "metadata": {},
   "source": [
    "**Комментарии к столбцу failures**\n",
    "\n",
    "Что значит 0? не было неудач и/или было больше 3?\n",
    "    \n",
    "я склоняюсь к версии, что пустые значение - это незаполненный 0. И поэтому заменить:\n",
    "    "
   ]
  },
  {
   "cell_type": "code",
   "execution_count": null,
   "id": "d28e17fa",
   "metadata": {},
   "outputs": [],
   "source": [
    "df['failures'] = df['failures'].fillna(0.0)\n",
    "display(pd.DataFrame(df.failures.value_counts(dropna=False)))"
   ]
  },
  {
   "cell_type": "markdown",
   "id": "d2ff417d",
   "metadata": {},
   "source": [
    "****\n",
    "# <span style=\"color:green\">schoolsup</span>\n",
    "\n",
    "дополнительная образовательная поддержка (yes или no)"
   ]
  },
  {
   "cell_type": "code",
   "execution_count": null,
   "id": "cfb6b63f",
   "metadata": {},
   "outputs": [],
   "source": [
    "display(pd.DataFrame(df.schoolsup.value_counts(dropna=False)))"
   ]
  },
  {
   "cell_type": "markdown",
   "id": "759c0eb4",
   "metadata": {},
   "source": [
    "<span style=\"color:red\">Содержит 9 пустых значений!</span> \n",
    "\n",
    "Заменим на моду:"
   ]
  },
  {
   "cell_type": "code",
   "execution_count": null,
   "id": "e04dcbcd",
   "metadata": {},
   "outputs": [],
   "source": [
    "df['schoolsup'] = df['schoolsup'].fillna(df['schoolsup'].mode()[0])\n",
    "display(pd.DataFrame(df.schoolsup.value_counts(dropna=False)))"
   ]
  },
  {
   "cell_type": "markdown",
   "id": "070c383e",
   "metadata": {},
   "source": [
    "****\n",
    "# <span style=\"color:green\">famsup</span>\n",
    "\n",
    "семейная образовательная поддержка (yes или no)"
   ]
  },
  {
   "cell_type": "code",
   "execution_count": null,
   "id": "a64ad0b6",
   "metadata": {},
   "outputs": [],
   "source": [
    "display(pd.DataFrame(df.famsup.value_counts(dropna=False)))"
   ]
  },
  {
   "cell_type": "markdown",
   "id": "415dda38",
   "metadata": {},
   "source": [
    "****\n",
    "# <span style=\"color:green\">paid</span>\n",
    "\n",
    "дополнительные платные занятия по математике (yes или no)"
   ]
  },
  {
   "cell_type": "code",
   "execution_count": null,
   "id": "a8d585ca",
   "metadata": {},
   "outputs": [],
   "source": [
    "display(pd.DataFrame(df.paid.value_counts(dropna=False)))"
   ]
  },
  {
   "cell_type": "code",
   "execution_count": null,
   "id": "392f79fa",
   "metadata": {},
   "outputs": [],
   "source": [
    "sns.boxplot(x='paid', y='score', data=df)"
   ]
  },
  {
   "cell_type": "markdown",
   "id": "b3c9bfed",
   "metadata": {},
   "source": [
    "**Выводы по столбцам schoolsup, famsup , paid**\n",
    "\n",
    "Для начала было бы не плохо понять, что именно подразумевается \"образовательной поддержкой\", на основании каких данных заполнялись эти столбцы, какие критерии, на сколько объективна иноформациия\n",
    "\n",
    "1. На первый взгляд эти 3 столбца можно преоброзовать в один Дополнительная образовательная поддержка (yes или no)\n",
    "2. famsup - можно сравнить с данными о работе родителей (Можно предположить, что учителя-родители более склонны оказать семейную образовательную поддержку)\n",
    "3. Cтолбец paid - поскольку нас интересует результаты экзамена именно по математике и доп.занятия по математике способны улучшить результаты (согласно здравому смыслу) - хотя из бокс-плота этого не следует... Проведем расчеты позже"
   ]
  },
  {
   "cell_type": "markdown",
   "id": "99b6d492",
   "metadata": {},
   "source": [
    "****\n",
    "# <span style=\"color:green\">activities</span>\n",
    "\n",
    "дополнительные внеучебные занятия (yes или no)"
   ]
  },
  {
   "cell_type": "code",
   "execution_count": null,
   "id": "52bd4fa3",
   "metadata": {},
   "outputs": [],
   "source": [
    "display(pd.DataFrame(df.activities.value_counts(dropna=False)))"
   ]
  },
  {
   "cell_type": "markdown",
   "id": "2493ab21",
   "metadata": {},
   "source": [
    "**Выводы по столбцам activities**\n",
    "\n",
    "Значений yes или no практически одинаково, поэтому заменять пустые нет смысла (либо заполнить случайным образом)."
   ]
  },
  {
   "cell_type": "markdown",
   "id": "517e50a7",
   "metadata": {},
   "source": [
    "****\n",
    "# <span style=\"color:green\">nursery</span>\n",
    "\n",
    "посещал детский сад (yes или no)"
   ]
  },
  {
   "cell_type": "code",
   "execution_count": null,
   "id": "46f3e4cb",
   "metadata": {
    "scrolled": true
   },
   "outputs": [],
   "source": [
    "display(pd.DataFrame(df.nursery.value_counts(dropna=False)))"
   ]
  },
  {
   "cell_type": "markdown",
   "id": "98908eaf",
   "metadata": {},
   "source": [
    "****\n",
    "# <span style=\"color:red\">studytime, granular</span>\n",
    "\n",
    "отсутвует в описании"
   ]
  },
  {
   "cell_type": "code",
   "execution_count": null,
   "id": "53c722ac",
   "metadata": {},
   "outputs": [],
   "source": [
    "display(pd.DataFrame(df['studytime, granular'].value_counts(dropna=False)))\n",
    "display(pd.DataFrame(df['studytime'].value_counts(dropna=False)))"
   ]
  },
  {
   "cell_type": "code",
   "execution_count": null,
   "id": "35554244",
   "metadata": {},
   "outputs": [],
   "source": [
    "df.loc[:,['studytime','studytime, granular']].corr()"
   ]
  },
  {
   "cell_type": "markdown",
   "id": "ed45edf0",
   "metadata": {},
   "source": [
    "Повторяет столбец studytime, умноженный на (-3)\n",
    "\n",
    "  Удалим его, на он не нужен"
   ]
  },
  {
   "cell_type": "code",
   "execution_count": null,
   "id": "e060ce6f",
   "metadata": {},
   "outputs": [],
   "source": [
    "df.drop(['studytime, granular'], inplace=True, axis=1)"
   ]
  },
  {
   "cell_type": "markdown",
   "id": "57a336b5",
   "metadata": {},
   "source": [
    "****\n",
    "# <span style=\"color:green\">higher</span>\n",
    "\n",
    "хочет получить высшее образование (yes или no)"
   ]
  },
  {
   "cell_type": "code",
   "execution_count": null,
   "id": "4fb284d1",
   "metadata": {},
   "outputs": [],
   "source": [
    "display(pd.DataFrame(df.higher.value_counts(dropna=False)))"
   ]
  },
  {
   "cell_type": "markdown",
   "id": "5db9a88d",
   "metadata": {},
   "source": [
    "Судя по нашим данным, подавляющее большинство школьников хотят получить высшее образование, что вполне логично. Заменим пропуски на самое часто встречающееся \"yes\". "
   ]
  },
  {
   "cell_type": "code",
   "execution_count": null,
   "id": "2f897e03",
   "metadata": {},
   "outputs": [],
   "source": [
    "df.higher = df.higher.fillna('yes')"
   ]
  },
  {
   "cell_type": "markdown",
   "id": "ee88f41a",
   "metadata": {},
   "source": [
    "****\n",
    "# <span style=\"color:green\">internet</span>\n",
    "\n",
    "наличие интернета дома (yes или no)"
   ]
  },
  {
   "cell_type": "code",
   "execution_count": null,
   "id": "e28234be",
   "metadata": {},
   "outputs": [],
   "source": [
    "display(pd.DataFrame(df.internet.value_counts(dropna=False)))"
   ]
  },
  {
   "cell_type": "markdown",
   "id": "f6b8f77b",
   "metadata": {},
   "source": [
    "56 пустых - много для нашей выборки данных. Оставим как есть.\n"
   ]
  },
  {
   "cell_type": "markdown",
   "id": "0586a613",
   "metadata": {},
   "source": [
    "****\n",
    "# <span style=\"color:green\">romantic</span>\n",
    "\n",
    "в романтических отношениях (yes или no)"
   ]
  },
  {
   "cell_type": "code",
   "execution_count": null,
   "id": "1f0c9a1f",
   "metadata": {},
   "outputs": [],
   "source": [
    "display(pd.DataFrame(df.romantic.value_counts(dropna=False)))"
   ]
  },
  {
   "cell_type": "markdown",
   "id": "f24cb045",
   "metadata": {},
   "source": [
    "31 пыстых - достаточно много. Нет оснований, на что можно опереться при выборе заполнения - как вариант случайным образом "
   ]
  },
  {
   "cell_type": "markdown",
   "id": "461f12af",
   "metadata": {},
   "source": [
    "****\n",
    "# <span style=\"color:green\">famrel</span>\n",
    "\n",
    "семейные отношения (от 1 - очень плохо до 5 - очень хорошо)"
   ]
  },
  {
   "cell_type": "code",
   "execution_count": null,
   "id": "0a0104af",
   "metadata": {},
   "outputs": [],
   "source": [
    "display(pd.DataFrame(df.famrel.value_counts(dropna=False)))"
   ]
  },
  {
   "cell_type": "markdown",
   "id": "1b10dcf4",
   "metadata": {},
   "source": [
    "Некорректное значение -1.0.\n",
    "\n",
    " Скорее всего, что при внесении данных произошла ошибка, опечатка, изменим на 1.0"
   ]
  },
  {
   "cell_type": "code",
   "execution_count": null,
   "id": "1068fd99",
   "metadata": {},
   "outputs": [],
   "source": [
    "df.famrel = df.famrel.apply(lambda x: -x if x == -1.0 else x)\n",
    "display(pd.DataFrame(df.famrel.value_counts(dropna=False)))\n",
    "sns.countplot(x='famrel', data=df)"
   ]
  },
  {
   "cell_type": "markdown",
   "id": "22e919ed",
   "metadata": {},
   "source": [
    "****\n",
    "# <span style=\"color:green\">freetime</span>\n",
    "\n",
    "свободное время после школы (от 1 - очень мало до 5 - очень много)"
   ]
  },
  {
   "cell_type": "code",
   "execution_count": null,
   "id": "6a42b1ab",
   "metadata": {},
   "outputs": [],
   "source": [
    "display(pd.DataFrame(df.freetime.value_counts(dropna=False)))\n",
    "sns.countplot(x='freetime', data=df)"
   ]
  },
  {
   "cell_type": "markdown",
   "id": "305296f2",
   "metadata": {},
   "source": [
    "Признак категориальный, у него нормальное распределение, выбросов нет, картина вполне реалистичная. Поскольку пропусков около 3%, заменим из на среднее значение - 3."
   ]
  },
  {
   "cell_type": "code",
   "execution_count": null,
   "id": "a56817dd",
   "metadata": {},
   "outputs": [],
   "source": [
    "df.freetime = df.freetime.fillna(3)"
   ]
  },
  {
   "cell_type": "markdown",
   "id": "1d46985b",
   "metadata": {},
   "source": [
    "****\n",
    "# <span style=\"color:green\">goout</span>\n",
    "\n",
    "проведение времени с друзьями (от 1 - очень мало до 5 - очень много)"
   ]
  },
  {
   "cell_type": "code",
   "execution_count": null,
   "id": "8cfbab8b",
   "metadata": {},
   "outputs": [],
   "source": [
    "display(pd.DataFrame(df.goout.value_counts(dropna=False)))\n",
    "sns.countplot(x='goout', data=df)"
   ]
  },
  {
   "cell_type": "markdown",
   "id": "5b90a7e2",
   "metadata": {},
   "source": [
    "Признак категориальный. У признака нормальное распределение, выбросов нет, признак похож на предыдущий, что у школьники соблюдают баланс между временем, занятым учебой и друзьями. Поскольку пропусков меньше 2%, заменим из на среднее значение - 3."
   ]
  },
  {
   "cell_type": "code",
   "execution_count": null,
   "id": "6248b7b5",
   "metadata": {},
   "outputs": [],
   "source": [
    "df.goout = df.goout.fillna(3)"
   ]
  },
  {
   "cell_type": "markdown",
   "id": "2831156c",
   "metadata": {},
   "source": [
    "****\n",
    "# <span style=\"color:green\">health</span>\n",
    "\n",
    "текущее состояние здоровья (от 1 - очень плохо до 5 - очень хорошо)"
   ]
  },
  {
   "cell_type": "code",
   "execution_count": null,
   "id": "94fbca10",
   "metadata": {},
   "outputs": [],
   "source": [
    "display(pd.DataFrame(df.health.value_counts(dropna=False)))\n",
    "sns.countplot(x='health', data=df)"
   ]
  },
  {
   "cell_type": "code",
   "execution_count": null,
   "id": "b7e2ac2f",
   "metadata": {},
   "outputs": [],
   "source": [
    "df.health.describe()"
   ]
  },
  {
   "cell_type": "markdown",
   "id": "8a4e8765",
   "metadata": {},
   "source": [
    "Признак категориальный. Большинство школьников имеют отличное здоровье, выбросов в признаке нет, пропуски заменим на медианное значение - 4."
   ]
  },
  {
   "cell_type": "code",
   "execution_count": null,
   "id": "5c61e8d1",
   "metadata": {},
   "outputs": [],
   "source": [
    "df.health = df.health.fillna(4)"
   ]
  },
  {
   "cell_type": "markdown",
   "id": "bde8a0cd",
   "metadata": {},
   "source": [
    "****\n",
    "# <span style=\"color:green\">absences</span>\n",
    "\n",
    "количество пропущенных занятий"
   ]
  },
  {
   "cell_type": "code",
   "execution_count": null,
   "id": "6fb11ace",
   "metadata": {},
   "outputs": [],
   "source": [
    "display(pd.DataFrame(df.absences.value_counts(dropna=False)))\n",
    "data.absences.describe()"
   ]
  },
  {
   "cell_type": "code",
   "execution_count": null,
   "id": "880635af",
   "metadata": {},
   "outputs": [],
   "source": [
    "median = df.absences.median()\n",
    "IQR = df.absences.quantile(0.75) - df.absences.quantile(0.25)\n",
    "perc25 = df.absences.quantile(0.25)\n",
    "perc75 = df.absences.quantile(0.75)\n",
    "display(pd.DataFrame(\n",
    "    (df[df.absences <= (perc75 + 1.5*IQR)]).absences.value_counts()))\n",
    "print(\"Пропущенных занятий более {l}       \".format(l=perc75 + 1.5*IQR),\n",
    "      len(df[(df.absences > (perc75 + 1.5*IQR)) |\n",
    "             (df.absences < (perc25 - 1.5*IQR))]), \" учеников\")"
   ]
  },
  {
   "cell_type": "code",
   "execution_count": null,
   "id": "d2332846",
   "metadata": {},
   "outputs": [],
   "source": [
    "df.absences.hist(bins=80)\n"
   ]
  },
  {
   "cell_type": "markdown",
   "id": "531602ae",
   "metadata": {},
   "source": [
    "**Комментарии к столбцу absences**\n",
    "\n",
    "Количество пропущенных занятий - здесь имеется в виду именно занятия (уроки)?\n",
    "Если подразумеваются учебные дни, тогда есть выбросы 385 и 212 (больше чем учебных дней в году) - и мх нужно удалить.\n",
    "\n",
    "Можно предположить, что количество пропусков зависит от состояния здоровья (столбцец health) - из-за болезней, из-за спортивных соревнований (activities), времени проведенного вне дома/учебы или романтических отношений (goout, romantic). Но первичный осмотр эту версию не подтверждает.\n",
    "\n",
    "  Я бы предложила изменить этот столбец в категориальный признак, чтобы облегчить восприятие информации. Мы видим межквартильный размах составляет до 20 пропусков. Таким образом, можно выделить следующие категории:\n",
    "- A - (0, 5] пропусков \n",
    "- B - (5, 10] пропусков \n",
    "- C - (10, 15] пропусков \n",
    "- D - (15, 20] пропусков \n",
    "- E - (20, ] пропусков - более 20 пропусков\n",
    "\n",
    "Пустые ячейки можно заполнить модой (это 0). В пользу этой версии может еще и говорить при заполнении/переносе данных 0 могли не писать и определенные форматы могли преоброзовать 0 в 'пусто'."
   ]
  },
  {
   "cell_type": "code",
   "execution_count": null,
   "id": "f256caa7",
   "metadata": {},
   "outputs": [],
   "source": [
    "df.absences = df.absences.fillna(0)"
   ]
  },
  {
   "cell_type": "code",
   "execution_count": null,
   "id": "cc2ff783",
   "metadata": {},
   "outputs": [],
   "source": [
    "df['absences'] = df.apply(lambda x: 'A' if x.absences <= 5 else ('B' if x.absences <= 10 else (\n",
    "    'C' if x.absences <= 15 else ('D' if x.absences <= 20 else  'E'))), axis=1)"
   ]
  },
  {
   "cell_type": "code",
   "execution_count": null,
   "id": "2f2b987b",
   "metadata": {},
   "outputs": [],
   "source": [
    "display(pd.DataFrame(df.absences.value_counts(dropna=False)))"
   ]
  },
  {
   "cell_type": "code",
   "execution_count": null,
   "id": "13093823",
   "metadata": {},
   "outputs": [],
   "source": [
    "# Количество NaN\n",
    "nan_df = pd.DataFrame(df.isna().sum(),columns=['NaN'])\n",
    "nan_df"
   ]
  },
  {
   "cell_type": "markdown",
   "id": "32e9ee15",
   "metadata": {},
   "source": [
    "****\n",
    "# <span style=\"color:green\">score</span>\n",
    "\n",
    "баллы по госэкзамену по математике"
   ]
  },
  {
   "cell_type": "code",
   "execution_count": null,
   "id": "7d9d7468",
   "metadata": {},
   "outputs": [],
   "source": [
    "display(pd.DataFrame(df.score.value_counts(dropna=False)))"
   ]
  },
  {
   "cell_type": "code",
   "execution_count": null,
   "id": "fb838839",
   "metadata": {},
   "outputs": [],
   "source": [
    "df.score.hist(bins=20)\n",
    "df.score.describe()"
   ]
  },
  {
   "cell_type": "markdown",
   "id": "aa56fe1b",
   "metadata": {},
   "source": [
    "<span style=\"color:red\">Содержит 6 пустых значений!</span> \n",
    "\n",
    "Заменим на 0:"
   ]
  },
  {
   "cell_type": "code",
   "execution_count": null,
   "id": "e8543430",
   "metadata": {},
   "outputs": [],
   "source": [
    "df['score'] = df['score'].fillna(0.0)\n",
    "display(pd.DataFrame(df.score.value_counts(dropna=False)))\n",
    "df.score.hist(bins=20)"
   ]
  },
  {
   "cell_type": "markdown",
   "id": "9a8bd89c",
   "metadata": {},
   "source": [
    "**Комментарии к столбцу score**\n",
    "\n",
    "Смущает значение 0 на экзамене:\n",
    "\n",
    "* Возможно это отсутвие данные (из-за технического переноса 0 = 'пусто'), тогда получается 43 незаполненные ячейки.\n",
    "* С другой стороны 0 - может означать оценку за экзамен (неявка, не сдал).\n",
    "* Или же 0-вые значение необходимо будет спргнозировать, ученик еще не сдавал экзамен.\n",
    " \n",
    " "
   ]
  },
  {
   "cell_type": "code",
   "execution_count": null,
   "id": "583c6cbc",
   "metadata": {},
   "outputs": [],
   "source": [
    "# df_score = df[df.score >0]"
   ]
  },
  {
   "cell_type": "code",
   "execution_count": null,
   "id": "c2990624",
   "metadata": {},
   "outputs": [],
   "source": [
    "# df_score"
   ]
  },
  {
   "cell_type": "markdown",
   "id": "c6879411",
   "metadata": {},
   "source": [
    "# Корреляционный анализ\n",
    "\n",
    "Для начала посмотрим корреляцю по числовым признакам:"
   ]
  },
  {
   "cell_type": "code",
   "execution_count": null,
   "id": "8a256dc8",
   "metadata": {},
   "outputs": [],
   "source": [
    "data_num = df[['age', 'score']]"
   ]
  },
  {
   "cell_type": "code",
   "execution_count": null,
   "id": "dbc1ae88",
   "metadata": {},
   "outputs": [],
   "source": [
    "sns.pairplot(data_num, kind='reg')"
   ]
  },
  {
   "cell_type": "code",
   "execution_count": null,
   "id": "c245b50b",
   "metadata": {},
   "outputs": [],
   "source": [
    "data_num.corr()"
   ]
  },
  {
   "cell_type": "code",
   "execution_count": null,
   "id": "37754101",
   "metadata": {},
   "outputs": [],
   "source": [
    "# data_num_sc = df_score[['age', 'score']]\n",
    "# sns.pairplot(data_num_sc, kind='reg')\n",
    "# data_num_sc.corr()"
   ]
  },
  {
   "cell_type": "code",
   "execution_count": null,
   "id": "85a36e25",
   "metadata": {},
   "outputs": [],
   "source": []
  },
  {
   "cell_type": "markdown",
   "id": "e905b984",
   "metadata": {},
   "source": [
    "**Комментарии**\n",
    "\n",
    "Оставляем оба критерия, потому что они не сколлерированны между собой. \n",
    "Можно сказать, что между возрастом есть обратная корреляция, т.е. чем выше возраст тем ниже score."
   ]
  },
  {
   "cell_type": "markdown",
   "id": "2ea28cbc",
   "metadata": {},
   "source": [
    "# Анализ категориальных переменных¶\n",
    "\n",
    "Очевидно, что для номинативных переменных использовать корреляционный анализ не получится. Однако можно посмотреть, различаются ли распределения score в зависимости от значения этих переменных. Это можно сделать, например, с помощью box-plot"
   ]
  },
  {
   "cell_type": "code",
   "execution_count": null,
   "id": "a7f0c846",
   "metadata": {},
   "outputs": [],
   "source": [
    "def get_boxplot(column):\n",
    "    fig, ax = plt.subplots(figsize=(14, 4))\n",
    "    sns.boxplot(x=column, y='score',\n",
    "                data=df.loc[df.loc[:, column].isin(\n",
    "                    df.loc[:, column].value_counts().index[:10])],\n",
    "                ax=ax)\n",
    "    plt.xticks(rotation=45)\n",
    "    ax.set_title('Boxplot for ' + column)\n",
    "    plt.show()"
   ]
  },
  {
   "cell_type": "code",
   "execution_count": null,
   "id": "d96c4689",
   "metadata": {},
   "outputs": [],
   "source": [
    "for col in ['school', 'sex', 'address', 'famsize', 'Pstatus', 'Medu', 'Fedu',\n",
    "            'Mjob', 'Fjob', 'reason', 'guardian', 'traveltime', 'studytime',\n",
    "            'failures', 'schoolsup', 'famsup', 'paid', 'activities', 'nursery',\n",
    "            'higher', 'internet', 'romantic', 'famrel', 'freetime', 'goout',\n",
    "            'health', 'absences']:\n",
    "    get_boxplot(col)"
   ]
  },
  {
   "cell_type": "markdown",
   "id": "954e3576",
   "metadata": {},
   "source": [
    "По графикам похоже, что могут влиять на результаты score следующие параметры:\n",
    "\n",
    "- school\n",
    "- sex\n",
    "- adress\n",
    "- Medu\n",
    "- Fedu\n",
    "- Mjob\n",
    "- Fjob\n",
    "- guardian\n",
    "- studytime\n",
    "- failures\n",
    "- schoolsup\n",
    "- higher\n",
    "- freetime или goout ?\n",
    "- health ?\n",
    "- absences\n",
    "\n",
    "Странно, что в выборку на попал paid - занятия по математике. \n",
    "\n",
    "Однако графики являются лишь вспомогательным инструментом, настоящую значимость различий может помочь распознать статистика. Проверим, есть ли статистическая разница в распределении оценок по номинативным признакам, с помощью теста Стьюдента. Проверим нулевую гипотезу о том, что распределения оценок батончиков по различным параметрам неразличимы:"
   ]
  },
  {
   "cell_type": "code",
   "execution_count": null,
   "id": "bc0f02a4",
   "metadata": {},
   "outputs": [],
   "source": [
    "def get_stat_dif(column):\n",
    "    cols = df.loc[:, column].value_counts().index[:]\n",
    "    combinations_all = list(combinations(cols, 2))\n",
    "    for comb in combinations_all:\n",
    "        if ttest_ind(df.loc[df.loc[:, column] == comb[0], 'score'],\n",
    "                     df.loc[df.loc[:, column] == comb[1], 'score']).pvalue \\\n",
    "                <= 0.05/len(combinations_all):  # Учли поправку Бонферони\n",
    "            print('Найдены статистически значимые различия для колонки', column)\n",
    "            break"
   ]
  },
  {
   "cell_type": "code",
   "execution_count": null,
   "id": "b5b2d28e",
   "metadata": {},
   "outputs": [],
   "source": [
    "for col in ['school', 'sex', 'age', 'address', 'famsize', 'Pstatus', 'Medu', 'Fedu',\n",
    "            'Mjob', 'Fjob', 'reason', 'guardian', 'traveltime', 'studytime',\n",
    "            'failures', 'schoolsup', 'famsup', 'paid', 'activities', 'nursery',\n",
    "            'higher', 'internet', 'romantic', 'famrel', 'freetime', 'goout',\n",
    "            'health', 'absences', 'score']:\n",
    "    get_stat_dif(col)"
   ]
  },
  {
   "cell_type": "markdown",
   "id": "e31f5847",
   "metadata": {},
   "source": [
    "**Вывод**\n",
    "Достаточно отличаются 12 параметров: sex, age, address, Medu, Fedu, Mjob, guardian, failures, schoolsup, higher, romantic, goout. \n",
    "\n",
    "Оставим эти переменные в датасете для дальнейшего построения модели."
   ]
  },
  {
   "cell_type": "code",
   "execution_count": null,
   "id": "da108e1a",
   "metadata": {},
   "outputs": [],
   "source": [
    "df_mod = df.loc[:, ['sex', 'age', 'address', 'Medu', 'Fedu', 'Mjob', 'guardian', \n",
    "                       'failures', 'schoolsup', 'higher', 'romantic', 'goout', 'score']]"
   ]
  },
  {
   "cell_type": "code",
   "execution_count": null,
   "id": "8844fcec",
   "metadata": {},
   "outputs": [],
   "source": [
    "df_mod.info()\n",
    "df_mod.head()"
   ]
  },
  {
   "cell_type": "markdown",
   "id": "2bc4d05b",
   "metadata": {},
   "source": [
    "# Выводы\n",
    "\n",
    "В результате EDA для анализа влияния критериев датасета на модель, которая предсказывала бы результаты госэкзамена по математике для каждого ученика школы были получены следующие выводы:\n",
    "\n",
    " В данных достаточно много пустых значений (в некоторых процент пропусков доходит до 11%). Только 3 столбца заполнены полностью (из 29). \n",
    " \n",
    " Найдены выбросы и ошибки - изменены данные:\n",
    "- в столбце Fedu (значение 40.0 – скорее все опечатка, заменила на 4.0)\n",
    "- в столбце famrel (значение -1.0 – скорее все опечатка, заменила на 1.0)\n",
    "\n",
    "Столбец studytime, granular – удален, т.к. он полностью скоррелирован со столбцом studytime\n",
    "\n",
    "Пустые значения (там, где пропусков не много) заменены на моду (медиану) или на 0, где по смыслу больше подходит.\n",
    "\n",
    "\n",
    "\n",
    "Гипотезы:\n",
    "- отрицательная корреляция параметра age и score может говорить о том, что чем моложе ученик, тем лучше сдает экзамен (выше score);\n",
    "- отрицательная корреляция параметра failures и score может говорить о том, что чем больше неудач по другим предметам тем ниже score\n",
    "- отрицательная корреляция параметра goout и score может говорить о том, что чем больше ученик проводит времени с друзьями тем ниже score\n",
    "- положительная корреляция по парамметру Medu говорит о том, что чем выше лучше образование матери тем выше score\n",
    "- положительная корреляция по парамметру Fedu говорит о том, что чем выше лучше образование отца тем выше score\n",
    "\n",
    "Критерии, которые предлагается использовать в дальнейшем для построения модели это: \n",
    "- sex, \n",
    "- age, \n",
    "- address, \n",
    "- Medu, \n",
    "- Fedu, \n",
    "- Mjob, \n",
    "- guardian,\n",
    "- failures, \n",
    "- schoolsup, \n",
    "- higher,\n",
    "- romantic,\n",
    "- goout,\n",
    "- score\n",
    "\n",
    "\n"
   ]
  },
  {
   "cell_type": "code",
   "execution_count": null,
   "id": "fb3b36f3",
   "metadata": {},
   "outputs": [],
   "source": []
  }
 ],
 "metadata": {
  "kernelspec": {
   "display_name": "Python 3",
   "language": "python",
   "name": "python3"
  },
  "language_info": {
   "codemirror_mode": {
    "name": "ipython",
    "version": 3
   },
   "file_extension": ".py",
   "mimetype": "text/x-python",
   "name": "python",
   "nbconvert_exporter": "python",
   "pygments_lexer": "ipython3",
   "version": "3.9.2"
  },
  "latex_envs": {
   "LaTeX_envs_menu_present": true,
   "autoclose": false,
   "autocomplete": true,
   "bibliofile": "biblio.bib",
   "cite_by": "apalike",
   "current_citInitial": 1,
   "eqLabelWithNumbers": true,
   "eqNumInitial": 1,
   "hotkeys": {
    "equation": "Ctrl-E",
    "itemize": "Ctrl-I"
   },
   "labels_anchors": false,
   "latex_user_defs": false,
   "report_style_numbering": false,
   "user_envs_cfg": false
  }
 },
 "nbformat": 4,
 "nbformat_minor": 5
}
